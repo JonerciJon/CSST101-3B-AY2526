{
  "cells": [
    {
      "cell_type": "markdown",
      "metadata": {
        "id": "view-in-github",
        "colab_type": "text"
      },
      "source": [
        "<a href=\"https://colab.research.google.com/github/JonerciJon/CSST101-3B-AY2526/blob/main/Lab%20Unification%20Inference%20Activity.ipynb\" target=\"_parent\"><img src=\"https://colab.research.google.com/assets/colab-badge.svg\" alt=\"Open In Colab\"/></a>"
      ]
    },
    {
      "cell_type": "markdown",
      "source": [
        "Pagalanan, Jon Enrico B.\n",
        "BSCS-3B\n"
      ],
      "metadata": {
        "id": "iv5Vs5PchQ5w"
      }
    },
    {
      "cell_type": "markdown",
      "source": [
        "1. Unification Checker"
      ],
      "metadata": {
        "id": "nmy9x7mluZZa"
      }
    },
    {
      "cell_type": "code",
      "source": [
        "def unify(p1, p2):\n",
        "    f1, f2 = p1.split(\"(\")[0], p2.split(\"(\")[0]\n",
        "    if f1 != f2: return \"Cannot be unified\"\n",
        "\n",
        "    a1, a2 = p1[p1.find(\"(\")+1:-1].split(\",\"), p2[p2.find(\"(\")+1:-1].split(\",\")\n",
        "    if len(a1) != len(a2): return \"Cannot be unified\"\n",
        "\n",
        "    subs = {}\n",
        "    for x, y in zip(a1, a2):\n",
        "        x, y = x.strip(), y.strip()\n",
        "        if x == y: continue\n",
        "        if x.islower(): subs[x] = y\n",
        "        elif y.islower(): subs[y] = x\n",
        "        else: return \"Cannot be unified\"\n",
        "\n",
        "    return subs or \"Already unified\"\n",
        "\n",
        "# Test\n",
        "print(unify(\"Parent(John, x)\", \"Parent(John, y)\"))\n"
      ],
      "metadata": {
        "id": "WqIh-ufEhU0B",
        "outputId": "937ff563-ae73-478a-f5e5-efe345451acd",
        "colab": {
          "base_uri": "https://localhost:8080/"
        }
      },
      "execution_count": 5,
      "outputs": [
        {
          "output_type": "stream",
          "name": "stdout",
          "text": [
            "{'x': 'y'}\n"
          ]
        }
      ]
    },
    {
      "cell_type": "markdown",
      "source": [
        "2. Forward Chaining"
      ],
      "metadata": {
        "id": "qH8QSzP5uhGq"
      }
    },
    {
      "cell_type": "code",
      "source": [
        "facts = {\"Human(Socrates)\", \"Human(Plato)\"}\n",
        "rules = [(\"Human\", \"Mortal\"), (\"Mortal\", \"Dies\"), (\"Dies\",\"Decompose\"), (\"Decompose\", \"Skeletonization\")]\n",
        "\n",
        "def fact_sort_key(fact):\n",
        "    predicate = fact.split(\"(\")[0]\n",
        "    try:\n",
        "        return [r[0] for r in rules].index(predicate)\n",
        "    except ValueError:\n",
        "        return len(rules)\n",
        "\n",
        "\n",
        "\n",
        "for p, c in rules:\n",
        "    new_facts = set()\n",
        "    for f in list(facts):\n",
        "        if f.startswith(p):\n",
        "            name = f[f.find(\"(\")+1:-1]\n",
        "            new_facts.add(f\"{c}({name})\")\n",
        "    if new_facts:\n",
        "\n",
        "        facts.update(new_facts)\n",
        "\n",
        "    else:\n",
        "\n",
        "        pass\n",
        "\n",
        "\n",
        "print(\"Final facts:\", sorted(list(facts), key=fact_sort_key))\n"
      ],
      "metadata": {
        "id": "EueGl5Tgksi5",
        "outputId": "87062e6b-0fbf-4fa0-c842-58ab4244e7f4",
        "colab": {
          "base_uri": "https://localhost:8080/"
        }
      },
      "execution_count": 12,
      "outputs": [
        {
          "output_type": "stream",
          "name": "stdout",
          "text": [
            "Final facts: ['Human(Socrates)', 'Human(Plato)', 'Mortal(Socrates)', 'Mortal(Plato)', 'Dies(Socrates)', 'Dies(Plato)', 'Decompose(Plato)', 'Decompose(Socrates)', 'Skeletonization(Plato)', 'Skeletonization(Socrates)']\n"
          ]
        }
      ]
    },
    {
      "cell_type": "markdown",
      "source": [
        "3. Backward Chaining"
      ],
      "metadata": {
        "id": "zGihlZpVumUi"
      }
    },
    {
      "cell_type": "code",
      "source": [
        "facts = {\"Student(Carlos)\", \"Studies(Carlos)\", \"Submits(Carlos, IT101)\", \"Studies(Ana)\", \"Submits(Ana, IT101)\"}\n",
        "premises = [\"Studies(x)\", \"Submits(x, IT101)\"]\n",
        "conclusion = \"Passed(x, IT101)\"\n",
        "\n",
        "def prove(goal):\n",
        "    if goal in facts: return True\n",
        "    if goal.startswith(\"Passed(\"):\n",
        "        name = goal[goal.find(\"(\")+1:goal.find(\",\")]\n",
        "        return all(prove(p.replace(\"x\", name)) for p in premises)\n",
        "    return False\n",
        "\n",
        "print(\"Carlos Passed?\", prove(\"Passed(Carlos, IT101)\"))\n",
        "print(\"Ana Passed?\", prove(\"Passed(Ana, IT101)\"))"
      ],
      "metadata": {
        "id": "ZUktuAm6ktzX",
        "outputId": "1aa2e777-95a6-494a-a8d9-c6a56e1328c4",
        "colab": {
          "base_uri": "https://localhost:8080/"
        }
      },
      "execution_count": 13,
      "outputs": [
        {
          "output_type": "stream",
          "name": "stdout",
          "text": [
            "Carlos Passed? True\n",
            "Ana Passed? True\n"
          ]
        }
      ]
    }
  ],
  "metadata": {
    "colab": {
      "name": "Welcome To Colab",
      "toc_visible": true,
      "provenance": [],
      "include_colab_link": true
    },
    "kernelspec": {
      "display_name": "Python 3",
      "name": "python3"
    }
  },
  "nbformat": 4,
  "nbformat_minor": 0
}