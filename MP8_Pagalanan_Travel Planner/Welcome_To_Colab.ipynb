{
  "cells": [
    {
      "cell_type": "code",
      "source": [
        "# MP8_Pagalanan_Travel Planner\n",
        "# BSCS-3B"
      ],
      "metadata": {
        "id": "G3Ctko5yqtrC"
      },
      "execution_count": null,
      "outputs": []
    },
    {
      "cell_type": "code",
      "source": [
        "destination <- readline(prompt=\"Do you prefer mountains or beach? \")\n",
        "# Rule 1 First Decisions\n",
        "if (destination == \"mountains\") {\n",
        "# Rule 2 Ask about weather preferences\n",
        "  weather <- readline(prompt=\"Do you like cold weather? (yes/no): \")\n",
        "# Rule 3 Ask about Hiking Interest\n",
        "  hiking <- readline(prompt=\"Do you enjoy hiking? (yes/no): \")\n",
        "# Chained Rule: Combine weather and hiking to suggest destination\n",
        "  if (weather == \"yes\" && hiking == \"yes\") {\n",
        "    print(\"Suggested destination: Mondstadt City - perfect for cold and adventurous travelers.\")\n",
        "  } else if (weather == \"yes\" && hiking == \"no\") {\n",
        "    print(\"Suggested destination: Dragonspine - enjoy the snow without too much hiking.\")\n",
        "  } else if (weather == \"no\" && hiking == \"yes\") {\n",
        "    print(\"Suggested destination: Liyue's Mt. Aocang - warm weather but great for hiking.\")\n",
        "  } else {\n",
        "    print(\"Suggested destination: Mt. Tianheng - easy walk with warm views.\")\n",
        "  }\n",
        "} else if (destination == \"beach\") {\n",
        "#Rule 4 Ask about Budget\n",
        "  budget <- as.numeric(readline(prompt=\"What is your budget in PHP? \"))\n",
        "#Rule 5 Ask about Crowd Preference\n",
        "  crowd <- readline(prompt=\"Do you prefer a quiet place? (yes/no): \")\n",
        "#Chained Rule : Combine budget and crowd to give better recommendation\n",
        "  if (budget > 10000 && crowd == \"no\") {\n",
        "    print(\"Suggested destination: Inazuma - lively beaches with exciting activities.\")\n",
        "  } else if (budget > 10000 && crowd == \"yes\") {\n",
        "    print(\"Suggested destination: Sumeru Varanara - peaceful and exclusive.\")\n",
        "  } else if (budget <= 100 && crowd == \"yes\") {\n",
        "    print(\"Suggested destination: Secret local beach - budget-friendly and quiet.\")\n",
        "  } else {\n",
        "    print(\"Suggested destination: Public beach - fun and affordable.\")\n",
        "  }\n",
        "} else {\n",
        "  # If user enters something invalid\n",
        "  print(\"Please select either 'mountains' or 'beach'.\")\n",
        "}"
      ],
      "metadata": {
        "colab": {
          "base_uri": "https://localhost:8080/"
        },
        "id": "o0u01fpyyGhk",
        "outputId": "68e11129-ccd2-4857-d374-61163e398fc6"
      },
      "execution_count": null,
      "outputs": [
        {
          "output_type": "stream",
          "name": "stdout",
          "text": [
            "Do you prefer mountains or beach? beach\n",
            "What is your budget in PHP? 500\n",
            "Do you prefer a quiet place? (yes/no): no\n",
            "[1] \"Suggested destination: Public beach - fun and affordable.\"\n"
          ]
        }
      ]
    }
  ],
  "metadata": {
    "colab": {
      "name": "Welcome To Colab",
      "provenance": []
    },
    "kernelspec": {
      "display_name": "R",
      "name": "ir"
    },
    "language_info": {
      "name": "R"
    }
  },
  "nbformat": 4,
  "nbformat_minor": 0
}