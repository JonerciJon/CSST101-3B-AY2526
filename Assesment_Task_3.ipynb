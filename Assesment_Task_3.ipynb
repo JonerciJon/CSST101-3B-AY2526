{
  "cells": [
    {
      "cell_type": "markdown",
      "metadata": {
        "id": "view-in-github",
        "colab_type": "text"
      },
      "source": [
        "<a href=\"https://colab.research.google.com/github/JonerciJon/CSST101-3B-AY2526/blob/main/Assesment_Task_3.ipynb\" target=\"_parent\"><img src=\"https://colab.research.google.com/assets/colab-badge.svg\" alt=\"Open In Colab\"/></a>"
      ]
    },
    {
      "cell_type": "markdown",
      "source": [
        "1. Unification"
      ],
      "metadata": {
        "id": "HFHh9oOoR-lm"
      }
    },
    {
      "cell_type": "code",
      "source": [
        "\n",
        "\n",
        "\n",
        "rule_predicate = \"Eligible\"\n",
        "rule_variable = \"x\"\n",
        "\n",
        "\n",
        "fact_predicate = \"Eligible\"\n",
        "fact_constant = \"Ana\"\n",
        "\n",
        "\n",
        "if rule_predicate == fact_predicate:\n",
        "\n",
        "    substitution = {rule_variable: fact_constant}\n",
        "    print(\" Unification successful!\")\n",
        "    print(\"Substitution set:\", substitution)\n",
        "else:\n",
        "    print(\" Cannot unify. Predicates do not match.\")\n"
      ],
      "metadata": {
        "id": "DfTjNYQaJfjY",
        "outputId": "4b78a6fc-3ba9-4247-b27a-e6e3a4f5d4bc",
        "colab": {
          "base_uri": "https://localhost:8080/"
        }
      },
      "execution_count": null,
      "outputs": [
        {
          "output_type": "stream",
          "name": "stdout",
          "text": [
            "✅ Unification successful!\n",
            "Substitution set: {'x': 'Ana'}\n"
          ]
        }
      ]
    },
    {
      "cell_type": "markdown",
      "source": [
        "2. Forward Chaining"
      ],
      "metadata": {
        "id": "sGRyWRx5SCrR"
      }
    },
    {
      "cell_type": "code",
      "source": [
        "students = {\n",
        "    \"Juan\":   {\"HighGrades\": True,  \"StudentLeader\": True,  \"Applied\": True},\n",
        "    \"Maria\":  {\"HighGrades\": True,  \"StudentLeader\": False, \"Applied\": False},\n",
        "    \"Carlos\": {\"HighGrades\": False, \"StudentLeader\": True,  \"Applied\": False},\n",
        "    \"Ana\":    {\"HighGrades\": True,  \"StudentLeader\": True,  \"Applied\": True}\n",
        "}\n",
        "\n",
        "\n",
        "eligible = {s for s,f in students.items() if f[\"HighGrades\"] and f[\"StudentLeader\"] and f[\"Applied\"]}\n",
        "scholarship = eligible.copy()\n",
        "financial = scholarship.copy()\n",
        "\n",
        "\n",
        "for s in students:\n",
        "    derived = []\n",
        "    if s in eligible:\n",
        "        derived.append(\"Eligible\")\n",
        "    if s in scholarship:\n",
        "        derived.append(\"Scholarship\")\n",
        "    if s in financial:\n",
        "        derived.append(\"FinancialSupport\")\n",
        "    print(f\"{s}: {', '.join(derived) if derived else 'No new derived facts'}\")\n",
        "\n",
        "\n",
        "for s in [\"Maria\",\"Carlos\"]:\n",
        "    f = students[s]\n",
        "    reasons = [r for r,b in [\n",
        "        (\"No HighGrades\", not f[\"HighGrades\"]),\n",
        "        (\"Not StudentLeader\", not f[\"StudentLeader\"]),\n",
        "        (\"Did not apply\", not f[\"Applied\"])\n",
        "    ] if b]\n",
        "    print(f\"{s} not eligible because:\", \", \".join(reasons))\n"
      ],
      "metadata": {
        "id": "hs8Nf7D0KBbL",
        "outputId": "481cb8f9-d6a7-4d5c-c004-fbb1c9a67e67",
        "colab": {
          "base_uri": "https://localhost:8080/"
        }
      },
      "execution_count": null,
      "outputs": [
        {
          "output_type": "stream",
          "name": "stdout",
          "text": [
            "Juan: Eligible, Scholarship, FinancialSupport\n",
            "Maria: No new derived facts\n",
            "Carlos: No new derived facts\n",
            "Ana: Eligible, Scholarship, FinancialSupport\n",
            "Maria not eligible because: Not StudentLeader, Did not apply\n",
            "Carlos not eligible because: No HighGrades, Did not apply\n"
          ]
        }
      ]
    },
    {
      "cell_type": "markdown",
      "source": [
        "`Goal 1: Scholarship(Maria)`\n",
        "\n",
        "Step 1 – Check Facts:\n",
        "Maria has: Yes: HighGrades , Not A StudentLeader , Not Applied .\n",
        "\n",
        "Step 2 – Apply the Rule:\n",
        "Rule says Eligible(x) → Scholarship(x), so we must check if Maria is Eligible.\n",
        "\n",
        "Step 3 – Check the Subgoals (Eligibility):\n",
        "To be Eligible → HighGrades ∧ StudentLeader ∧ Applied.\n",
        "Maria does not have StudentLeader and did not Apply → subgoal fails.\n",
        "\n",
        "Step 4 – Conclusion:\n",
        "Because Maria is not Eligible, she does not get Scholarship.\n",
        "No Scholarship(Maria) = False.\n",
        "\n",
        "\n",
        "`Goal 2: FinancialSupport(Ana)`\n",
        "\n",
        "Step 1 – Check Facts:\n",
        "Ana has: HighGrades , StudentLeader , Applied .\n",
        "\n",
        "Step 2 – Apply the Rule:\n",
        "Rule says Scholarship(x) → FinancialSupport(x), so we must check if Ana has Scholarship.\n",
        "\n",
        "Step 3 – Check the Subgoals (Scholarship):\n",
        "Scholarship(x) comes from Eligible(x).\n",
        "Eligible(x) requires HighGrades ∧ StudentLeader ∧ Applied.\n",
        "Ana satisfies all three → Eligible(Ana)  → Scholarship(Ana) .\n",
        "\n",
        "Step 4 – Conclusion:\n",
        "Since Ana has Scholarship → she also has FinancialSupport.\n",
        " FinancialSupport(Ana) = True."
      ],
      "metadata": {
        "id": "XOK1L1QQRMrT"
      }
    },
    {
      "cell_type": "markdown",
      "source": [
        "3. Backward Chaining"
      ],
      "metadata": {
        "id": "hMN2EFcuSIER"
      }
    },
    {
      "cell_type": "code",
      "source": [
        "\n",
        "students = {\n",
        "    \"Juan\":   {\"HighGrades\": True,  \"StudentLeader\": True,  \"Applied\": True},\n",
        "    \"Maria\":  {\"HighGrades\": True,  \"StudentLeader\": False, \"Applied\": False},\n",
        "    \"Carlos\": {\"HighGrades\": False, \"StudentLeader\": True,  \"Applied\": False},\n",
        "    \"Ana\":    {\"HighGrades\": True,  \"StudentLeader\": True,  \"Applied\": True}\n",
        "}\n",
        "\n",
        "# --- Rules as functions ---\n",
        "def eligible(x):\n",
        "    s = students[x]\n",
        "    return s[\"HighGrades\"] and s[\"StudentLeader\"] and s[\"Applied\"]\n",
        "\n",
        "def scholarship(x):\n",
        "    return eligible(x)\n",
        "\n",
        "def financial_support(x):\n",
        "    return scholarship(x)\n",
        "\n",
        "\n",
        "goals = [(\"Scholarship\",\"Maria\"), (\"FinancialSupport\",\"Ana\")]\n",
        "\n",
        "for g, name in goals:\n",
        "    if g == \"Scholarship\":\n",
        "        print(f\"Goal: Scholarship({name})\")\n",
        "        print(\" Check if Eligible first...\")\n",
        "        print(\"  Eligible:\", eligible(name))\n",
        "        print(\"  Scholarship:\", scholarship(name))\n",
        "    elif g == \"FinancialSupport\":\n",
        "        print(f\"\\nGoal: FinancialSupport({name})\")\n",
        "        print(\" Check if Scholarship first...\")\n",
        "        print(\"  Scholarship:\", scholarship(name))\n",
        "        print(\"  FinancialSupport:\", financial_support(name))\n"
      ],
      "metadata": {
        "id": "l_fmDjPDM5Nh",
        "outputId": "23ba48cf-0d43-40a5-ab82-7767df7fd313",
        "colab": {
          "base_uri": "https://localhost:8080/"
        }
      },
      "execution_count": 1,
      "outputs": [
        {
          "output_type": "stream",
          "name": "stdout",
          "text": [
            "Goal: Scholarship(Maria)\n",
            " Check if Eligible first...\n",
            "  Eligible: False\n",
            "  Scholarship: False\n",
            "\n",
            "Goal: FinancialSupport(Ana)\n",
            " Check if Scholarship first...\n",
            "  Scholarship: True\n",
            "  FinancialSupport: True\n"
          ]
        }
      ]
    },
    {
      "cell_type": "markdown",
      "source": [
        "4. Validity Check\n",
        "\n",
        "\n",
        "![image.png](data:image/png;base64,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)"
      ],
      "metadata": {
        "id": "kNSlUPNoWE1Z"
      }
    },
    {
      "cell_type": "markdown",
      "source": [
        "5. Reflection\n",
        "\n",
        "Logical reasoning is important because it helps AI and people make clear and fair decisions. It allows us to use facts and rules step by step to reach correct conclusions. In real life, it helps us solve problems, avoid mistakes, and choose the best actions based on evidence. For students, its like using clear thinking to show your work in math  it makes decisions more reliable and easier to explain."
      ],
      "metadata": {
        "id": "zIWi2pL9XrNZ"
      }
    }
  ],
  "metadata": {
    "colab": {
      "toc_visible": true,
      "provenance": [],
      "include_colab_link": true
    },
    "kernelspec": {
      "display_name": "Python 3",
      "name": "python3"
    }
  },
  "nbformat": 4,
  "nbformat_minor": 0
}